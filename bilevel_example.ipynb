{
 "cells": [
  {
   "cell_type": "code",
   "execution_count": 1,
   "metadata": {},
   "outputs": [
    {
     "name": "stdout",
     "output_type": "stream",
     "text": [
      "WARNING: DEPRECATED: add_docstring_list is deprecated.  Please use the\n",
      "@document_kwargs_from_configdict() decorator.  (deprecated in 6.6.0) (called\n",
      "from c:\\Users\\miaoz\\anaconda3\\Lib\\site-packages\\pao\\common\\solver.py:189)\n"
     ]
    }
   ],
   "source": [
    "import pyomo.environ as pe\n",
    "import pao\n",
    "import pao.pyomo"
   ]
  },
  {
   "cell_type": "code",
   "execution_count": 2,
   "metadata": {},
   "outputs": [],
   "source": [
    "M = pe.ConcreteModel()\n",
    "\n",
    "M.x = pe.Var(bounds=(2,6))\n",
    "M.y = pe.Var()\n",
    "\n",
    "M.L = pao.pyomo.SubModel(fixed=[M.x,M.y])\n",
    "M.L.z = pe.Var(bounds=(0,None))\n",
    "\n",
    "M.o = pe.Objective(expr=M.x + 3*M.L.z, sense=pe.minimize)\n",
    "M.c = pe.Constraint(expr= M.x + M.y == 10)\n",
    "\n",
    "M.L.o = pe.Objective(expr=M.L.z, sense=pe.maximize)\n",
    "M.L.c1 = pe.Constraint(expr= M.x + M.L.z <= 8)\n",
    "M.L.c2 = pe.Constraint(expr= M.x + 4*M.L.z >= 8)\n",
    "M.L.c3 = pe.Constraint(expr= M.x + 2*M.L.z <= 13)\n"
   ]
  },
  {
   "cell_type": "code",
   "execution_count": 3,
   "metadata": {},
   "outputs": [
    {
     "name": "stdout",
     "output_type": "stream",
     "text": [
      "6.0 4.0 2.0\n"
     ]
    }
   ],
   "source": [
    "opt = pao.Solver(\"pao.pyomo.FA\")\n",
    "results = opt.solve(M)\n",
    "print(M.x.value, M.y.value, M.L.z.value)"
   ]
  },
  {
   "cell_type": "code",
   "execution_count": null,
   "metadata": {},
   "outputs": [],
   "source": []
  }
 ],
 "metadata": {
  "kernelspec": {
   "display_name": "base",
   "language": "python",
   "name": "python3"
  },
  "language_info": {
   "codemirror_mode": {
    "name": "ipython",
    "version": 3
   },
   "file_extension": ".py",
   "mimetype": "text/x-python",
   "name": "python",
   "nbconvert_exporter": "python",
   "pygments_lexer": "ipython3",
   "version": "3.11.7"
  }
 },
 "nbformat": 4,
 "nbformat_minor": 2
}
