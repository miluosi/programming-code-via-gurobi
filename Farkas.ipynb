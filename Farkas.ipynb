{
 "cells": [
  {
   "cell_type": "code",
   "execution_count": 9,
   "metadata": {},
   "outputs": [
    {
     "name": "stdout",
     "output_type": "stream",
     "text": [
      "验证 Farkas 引理的例子:\n",
      "\n",
      "Gurobi Optimizer version 10.0.2 build v10.0.2rc0 (win64)\n",
      "\n",
      "CPU model: 13th Gen Intel(R) Core(TM) i7-13700HX, instruction set [SSE2|AVX|AVX2]\n",
      "Thread count: 16 physical cores, 24 logical processors, using up to 24 threads\n",
      "\n",
      "Optimize a model with 2 rows, 2 columns and 4 nonzeros\n",
      "Model fingerprint: 0xd45c6ad5\n",
      "Coefficient statistics:\n",
      "  Matrix range     [1e+00, 2e+00]\n",
      "  Objective range  [0e+00, 0e+00]\n",
      "  Bounds range     [0e+00, 0e+00]\n",
      "  RHS range        [1e+00, 4e+00]\n",
      "Presolve removed 2 rows and 2 columns\n",
      "Presolve time: 0.01s\n",
      "Presolve: All rows and columns removed\n",
      "Iteration    Objective       Primal Inf.    Dual Inf.      Time\n",
      "       0    0.0000000e+00   0.000000e+00   0.000000e+00      0s\n",
      "\n",
      "Solved in 0 iterations and 0.01 seconds (0.00 work units)\n",
      "Optimal objective  0.000000000e+00\n",
      "系统 (1) 可行 (即，存在 x 使得 Ax <= b 且 x >= 0).\n",
      "例如，x 的一个可行解为: x = [0. 0.]\n",
      "\n",
      "\n",
      "Gurobi Optimizer version 10.0.2 build v10.0.2rc0 (win64)\n",
      "\n",
      "CPU model: 13th Gen Intel(R) Core(TM) i7-13700HX, instruction set [SSE2|AVX|AVX2]\n",
      "Thread count: 16 physical cores, 24 logical processors, using up to 24 threads\n",
      "\n",
      "Optimize a model with 3 rows, 2 columns and 6 nonzeros\n",
      "Model fingerprint: 0x0b235c1b\n",
      "Coefficient statistics:\n",
      "  Matrix range     [1e+00, 4e+00]\n",
      "  Objective range  [0e+00, 0e+00]\n",
      "  Bounds range     [0e+00, 0e+00]\n",
      "  RHS range        [1e-04, 1e-04]\n",
      "Presolve removed 2 rows and 2 columns\n",
      "Presolve time: 0.00s\n",
      "\n",
      "Solved in 0 iterations and 0.00 seconds (0.00 work units)\n",
      "Infeasible model\n",
      "系统 (2) 不可行 (即，不存在 y 使得 A^T y >= 0, b^T y < 0 且 y >= 0).\n",
      "\n",
      "根据 Farkas 引理，系统 (1) 和 系统 (2) 应该恰好有一个是可行的。\n",
      "这个例子展示了 Farkas 引理。\n"
     ]
    }
   ],
   "source": [
    "import numpy as np\n",
    "import gurobipy as gp\n",
    "\n",
    "# 定义矩阵 A 和向量 b\n",
    "A = np.array([[2, 1], [1, -1]])\n",
    "b = np.array([4, 1])\n",
    "\n",
    "print(\"验证 Farkas 引理的例子:\\n\")\n",
    "\n",
    "# 系统 (1): 检查是否存在 x >= 0 使得 Ax <= b\n",
    "try:\n",
    "    model1 = gp.Model(\"Farkas_System1\")\n",
    "    x = model1.addMVar(shape=2, lb=0, name=\"x\") # 定义变量 x, 维度为 2, 下界为 0\n",
    "    model1.addConstr(A @ x <= b, \"c1\") # 添加约束 Ax <= b\n",
    "    model1.setObjective(0, gp.GRB.MINIMIZE) # 设置目标函数为常数 0 (仅关注可行性)\n",
    "    model1.optimize() # 求解模型\n",
    "\n",
    "    if model1.status == gp.GRB.OPTIMAL or model1.status == gp.GRB.SUBOPTIMAL:\n",
    "        print(\"系统 (1) 可行 (即，存在 x 使得 Ax <= b 且 x >= 0).\")\n",
    "        x_val = x.X # 获取解 x 的值\n",
    "        print(\"例如，x 的一个可行解为: x =\", x_val)\n",
    "    else:\n",
    "        print(\"系统 (1) 不可行 (即，不存在 x 使得 Ax <= b 且 x >= 0).\")\n",
    "\n",
    "except gp.GurobiError as e:\n",
    "    print(\"Gurobi 错误代码: \" + str(e.errno) + \": \" + str(e))\n",
    "\n",
    "print(\"\\n\")\n",
    "\n",
    "# 系统 (2): 检查是否存在 y >= 0 使得 A^T y >= 0 且 b^T y < 0\n",
    "try:\n",
    "    model2 = gp.Model(\"Farkas_System2\")\n",
    "    y = model2.addMVar(shape=2, lb=0, name=\"y\") # 定义变量 y, 维度为 2, 下界为 0\n",
    "    AT = A.T # 计算 A 的转置\n",
    "    model2.addConstr(AT @ y >= 0, \"c2\") # 添加约束 A^T y >= 0\n",
    "    model2.addConstr(b @ y <=-1e-4, \"c3\") # 添加约束 b^T y < 0 (为了数值稳定性，使用 <= -1e-6 代替 < 0)\n",
    "    model2.setObjective(0, gp.GRB.MINIMIZE) # 设置目标函数为常数 0\n",
    "    model2.optimize() # 求解模型\n",
    "\n",
    "    if model2.status == gp.GRB.OPTIMAL or model2.status == gp.GRB.SUBOPTIMAL:\n",
    "        print(\"系统 (2) 可行 (即，存在 y 使得 A^T y >= 0, b^T y < 0 且 y >= 0).\")\n",
    "        y_val = y.X # 获取解 y 的值\n",
    "        print(\"例如，y 的一个可行解为: y =\", y_val)\n",
    "    else:\n",
    "        print(\"系统 (2) 不可行 (即，不存在 y 使得 A^T y >= 0, b^T y < 0 且 y >= 0).\")\n",
    "\n",
    "except gp.GurobiError as e:\n",
    "    print(\"Gurobi 错误代码: \" + str(e.errno) + \": \" + str(e))\n",
    "\n",
    "print(\"\\n根据 Farkas 引理，系统 (1) 和 系统 (2) 应该恰好有一个是可行的。\")\n",
    "print(\"这个例子展示了 Farkas 引理。\")"
   ]
  },
  {
   "cell_type": "code",
   "execution_count": 2,
   "metadata": {},
   "outputs": [
    {
     "data": {
      "text/plain": [
       "array([4, 1])"
      ]
     },
     "execution_count": 2,
     "metadata": {},
     "output_type": "execute_result"
    }
   ],
   "source": [
    "b"
   ]
  },
  {
   "cell_type": "code",
   "execution_count": null,
   "metadata": {},
   "outputs": [],
   "source": []
  }
 ],
 "metadata": {
  "kernelspec": {
   "display_name": "base",
   "language": "python",
   "name": "python3"
  },
  "language_info": {
   "codemirror_mode": {
    "name": "ipython",
    "version": 3
   },
   "file_extension": ".py",
   "mimetype": "text/x-python",
   "name": "python",
   "nbconvert_exporter": "python",
   "pygments_lexer": "ipython3",
   "version": "3.9.13"
  }
 },
 "nbformat": 4,
 "nbformat_minor": 2
}
