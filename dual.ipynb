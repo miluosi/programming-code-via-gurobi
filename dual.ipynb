{
 "cells": [
  {
   "cell_type": "code",
   "execution_count": 1,
   "metadata": {},
   "outputs": [
    {
     "name": "stdout",
     "output_type": "stream",
     "text": [
      "[[-0.70187814  0.03466943  0.26243251 -0.55139735]\n",
      " [ 1.36789377 -0.36153155 -2.08122004  0.35038373]\n",
      " [ 1.6845157   0.17637811 -1.75921951  0.12587443]]\n"
     ]
    }
   ],
   "source": [
    "import numpy as np\n",
    "a = np.random.randn(3, 4)  # 直接传入维度\n",
    "print(a)\n"
   ]
  },
  {
   "cell_type": "code",
   "execution_count": 2,
   "metadata": {},
   "outputs": [
    {
     "name": "stdout",
     "output_type": "stream",
     "text": [
      "[[ 1.10032294 -1.98262742 -1.15024951  2.19291636 -1.90143503 -0.43389669]\n",
      " [-1.13558187 -1.03329507 -2.37195862  0.70333809  0.38484212  1.7504858 ]\n",
      " [-1.19506926  0.29512768  0.04832088 -0.17129885 -0.50502703 -1.36851403]\n",
      " [-0.10257869 -0.38657733 -0.45610576 -1.35917171 -0.39687699  0.59463191]\n",
      " [-1.37793369  0.51179504 -0.54133239 -0.49094076  0.32615422  0.73867359]]\n",
      "[[-0.13003621 -0.03350093 -1.34988964]\n",
      " [-1.02619022 -1.87639537 -1.35834067]\n",
      " [ 1.85728363  1.70499395 -1.37052023]\n",
      " [ 0.6752157  -0.37460609 -0.54231276]\n",
      " [ 0.97005336  0.76693399 -0.92581152]]\n",
      "[[ 1.10032294 -1.98262742 -1.15024951  2.19291636 -1.90143503 -0.43389669\n",
      "  -0.13003621 -0.03350093 -1.34988964]\n",
      " [-1.13558187 -1.03329507 -2.37195862  0.70333809  0.38484212  1.7504858\n",
      "  -1.02619022 -1.87639537 -1.35834067]\n",
      " [-1.19506926  0.29512768  0.04832088 -0.17129885 -0.50502703 -1.36851403\n",
      "   1.85728363  1.70499395 -1.37052023]\n",
      " [-0.10257869 -0.38657733 -0.45610576 -1.35917171 -0.39687699  0.59463191\n",
      "   0.6752157  -0.37460609 -0.54231276]\n",
      " [-1.37793369  0.51179504 -0.54133239 -0.49094076  0.32615422  0.73867359\n",
      "   0.97005336  0.76693399 -0.92581152]]\n"
     ]
    }
   ],
   "source": [
    "import numpy as np\n",
    "np.random.seed(64)\n",
    "a = np.random.randn(5, 6)  # 直接传入维度\n",
    "b = np.random.randn(5, 3)\n",
    "print(a)\n",
    "print(b)\n",
    "c = np.concatenate([a, b], axis=1)\n",
    "print(c)\n"
   ]
  },
  {
   "cell_type": "code",
   "execution_count": 6,
   "metadata": {},
   "outputs": [
    {
     "data": {
      "text/plain": [
       "array([[2, 3, 2, 3],\n",
       "       [3, 4, 3, 4]])"
      ]
     },
     "execution_count": 6,
     "metadata": {},
     "output_type": "execute_result"
    }
   ],
   "source": [
    "b = np.array([[2,3],[3,4]])\n",
    "c  = np.array([[2,3],[3,4]])\n",
    "a = np.concatenate([b,c],axis = 1)\n",
    "a"
   ]
  },
  {
   "cell_type": "code",
   "execution_count": 14,
   "metadata": {},
   "outputs": [
    {
     "name": "stdout",
     "output_type": "stream",
     "text": [
      "[[-7 -5 -5  6]\n",
      " [ 9  8 10  5]]\n",
      "[[-1 -3 -9]\n",
      " [ 5  6 -7]]\n",
      "[[-7 -5 -5  6 -1 -3 -9]\n",
      " [ 9  8 10  5  5  6 -7]]\n",
      "[[2]\n",
      " [6]]\n",
      "[[  5]\n",
      " [  2]\n",
      " [  4]\n",
      " [-10]\n",
      " [  0]\n",
      " [ -5]\n",
      " [  4]]\n"
     ]
    }
   ],
   "source": [
    "import numpy as np\n",
    "np.random.seed(64)\n",
    "a = np.random.randint(-11, 11, size=(2, 4))  # 生成一个 5x6 的数组，值在 0 到 10 之间\n",
    "b = np.random.randint(-11, 11, size=(2, 3))  # 生成一个 5x3 的数组，值在 0 到 10 之间\n",
    "c = np.concatenate([a,b],axis=1)\n",
    "d = np.random.randint(0, 20, size=(2, 1))  #\n",
    "obj = np.random.randint(-10, 10, size=(7, 1))  \n",
    "print(a)\n",
    "print(b)\n",
    "print(c)\n",
    "print(d)\n",
    "print(obj)"
   ]
  },
  {
   "cell_type": "code",
   "execution_count": 18,
   "metadata": {},
   "outputs": [
    {
     "data": {
      "text/plain": [
       "5"
      ]
     },
     "execution_count": 18,
     "metadata": {},
     "output_type": "execute_result"
    }
   ],
   "source": [
    "obj[0].item()"
   ]
  },
  {
   "cell_type": "code",
   "execution_count": 62,
   "metadata": {},
   "outputs": [],
   "source": [
    "import numpy as np\n",
    "import gurobipy as gp\n",
    "\n",
    "def create_max(obj,c,d):\n",
    "    model = gp.Model(\"linear_programming_example\")\n",
    "\n",
    "    # 添加决策变量，假设每个变量是连续的\n",
    "    x = model.addVars(c.shape[1], lb=0, name=\"x\")  # 7 个决策变量\n",
    "\n",
    "    # 设置目标函数\n",
    "    model.setObjective(gp.quicksum(obj[i].item() * x[i] for i in range(c.shape[1])), GRB.MAXIMIZE)\n",
    "\n",
    "    # 添加约束 Ax <= b\n",
    "    # 假设 c = [a, b] 被视为约束矩阵，而 d 是对应的右侧值\n",
    "    for i in range(c.shape[0]):\n",
    "        model.addConstr(gp.quicksum(c[i, j] * x[j] for j in range(c.shape[1])) <= d[i], name=f\"constraint_{i}\")\n",
    "\n",
    "    # 求解模型\n",
    "    model.optimize()\n",
    "\n",
    "    # 输出结果\n",
    "    if model.status == GRB.OPTIMAL:\n",
    "        print(\"\\nOptimal Solution:\")\n",
    "        for v in model.getVars():\n",
    "            print(f\"{v.varName}: {v.x}\")\n",
    "    else:\n",
    "        print(\"No optimal solution found\")\n"
   ]
  },
  {
   "cell_type": "code",
   "execution_count": 63,
   "metadata": {},
   "outputs": [],
   "source": [
    "import numpy as np\n",
    "import gurobipy as gp\n",
    "\n",
    "def create_dual(obj,c,d):\n",
    "    model = gp.Model(\"linear_programming_example\")\n",
    "\n",
    "    # 添加决策变量，假设每个变量是连续的\n",
    "    x = model.addVars(c.shape[1], lb=0, name=\"x\")  # 7 个决策变量\n",
    "\n",
    "    # 设置目标函数\n",
    "    model.setObjective(gp.quicksum(obj[i].item() * x[i] for i in range(c.shape[1])), GRB.MINIMIZE)\n",
    "\n",
    "    # 添加约束 Ax <= b\n",
    "    # 假设 c = [a, b] 被视为约束矩阵，而 d 是对应的右侧值\n",
    "    for i in range(c.shape[0]):\n",
    "        model.addConstr(gp.quicksum(c[i, j] * x[j] for j in range(c.shape[1])) >= d[i], name=f\"constraint_{i}\")\n",
    "\n",
    "    # 求解模型\n",
    "    model.optimize()\n",
    "\n",
    "    # 输出结果\n",
    "    if model.status == GRB.OPTIMAL:\n",
    "        print(\"\\nOptimal Solution:\")\n",
    "        for v in model.getVars():\n",
    "            print(f\"{v.varName}: {v.x}\")\n",
    "    else:\n",
    "        print(\"No optimal solution found\")\n"
   ]
  },
  {
   "cell_type": "code",
   "execution_count": 64,
   "metadata": {},
   "outputs": [
    {
     "name": "stdout",
     "output_type": "stream",
     "text": [
      "Gurobi Optimizer version 10.0.2 build v10.0.2rc0 (win64)\n",
      "\n",
      "CPU model: 13th Gen Intel(R) Core(TM) i7-13700HX, instruction set [SSE2|AVX|AVX2]\n",
      "Thread count: 16 physical cores, 24 logical processors, using up to 24 threads\n",
      "\n",
      "Optimize a model with 3 rows, 7 columns and 19 nonzeros\n",
      "Model fingerprint: 0x7513e3e4\n",
      "Coefficient statistics:\n",
      "  Matrix range     [1e+00, 1e+01]\n",
      "  Objective range  [2e+00, 9e+00]\n",
      "  Bounds range     [0e+00, 0e+00]\n",
      "  RHS range        [1e+01, 2e+01]\n",
      "Presolve removed 0 rows and 1 columns\n",
      "Presolve time: 0.00s\n",
      "Presolved: 3 rows, 6 columns, 16 nonzeros\n",
      "\n",
      "Iteration    Objective       Primal Inf.    Dual Inf.      Time\n",
      "       0    1.9285714e+01   5.865357e-01   0.000000e+00      0s\n",
      "       3    1.8041667e+01   0.000000e+00   0.000000e+00      0s\n",
      "\n",
      "Solved in 3 iterations and 0.00 seconds (0.00 work units)\n",
      "Optimal objective  1.804166667e+01\n",
      "\n",
      "Optimal Solution:\n",
      "x[0]: 0.0\n",
      "x[1]: 0.4583333333333333\n",
      "x[2]: 1.75\n",
      "x[3]: 0.0\n",
      "x[4]: 0.0\n",
      "x[5]: 0.0\n",
      "x[6]: 0.0\n"
     ]
    }
   ],
   "source": [
    "import numpy as np\n",
    "import gurobipy as gp\n",
    "from gurobipy import GRB\n",
    "\n",
    "# 设置随机数种子\n",
    "np.random.seed(64)\n",
    "\n",
    "# 随机生成数据\n",
    "a = np.random.randint(0, 11, size=(3, 4))  # 2x4 矩阵\n",
    "b = np.random.randint(0, 11, size=(3, 3))  # 2x3 矩阵\n",
    "c = np.concatenate([a,b],axis=1)  # 2x7 矩阵，水平连接\n",
    "d = np.random.randint(0, 20, size=(3, 1))  # 2x1 矩阵（右边的约束值）\n",
    "obj = np.random.randint(0, 10, size=(7, 1))  # 7x1 矩阵（目标函数的系数）\n",
    "create_max(obj=obj,c=c,d=d)"
   ]
  },
  {
   "cell_type": "code",
   "execution_count": 65,
   "metadata": {},
   "outputs": [
    {
     "name": "stdout",
     "output_type": "stream",
     "text": [
      "Gurobi Optimizer version 10.0.2 build v10.0.2rc0 (win64)\n",
      "\n",
      "CPU model: 13th Gen Intel(R) Core(TM) i7-13700HX, instruction set [SSE2|AVX|AVX2]\n",
      "Thread count: 16 physical cores, 24 logical processors, using up to 24 threads\n",
      "\n",
      "Optimize a model with 7 rows, 3 columns and 19 nonzeros\n",
      "Model fingerprint: 0xc765208d\n",
      "Coefficient statistics:\n",
      "  Matrix range     [1e+00, 1e+01]\n",
      "  Objective range  [1e+01, 2e+01]\n",
      "  Bounds range     [0e+00, 0e+00]\n",
      "  RHS range        [2e+00, 9e+00]\n",
      "Presolve removed 1 rows and 0 columns\n",
      "Presolve time: 0.00s\n",
      "Presolved: 6 rows, 3 columns, 16 nonzeros\n",
      "\n",
      "Iteration    Objective       Primal Inf.    Dual Inf.      Time\n",
      "       0    0.0000000e+00   4.000000e+00   0.000000e+00      0s\n",
      "       2    1.8041667e+01   0.000000e+00   0.000000e+00      0s\n",
      "\n",
      "Solved in 2 iterations and 0.00 seconds (0.00 work units)\n",
      "Optimal objective  1.804166667e+01\n",
      "\n",
      "Optimal Solution:\n",
      "x[0]: 0.8333333333333334\n",
      "x[1]: 0.0\n",
      "x[2]: 0.39583333333333326\n"
     ]
    }
   ],
   "source": [
    "import numpy as np\n",
    "import gurobipy as gp\n",
    "from gurobipy import GRB\n",
    "\n",
    "# 设置随机数种子\n",
    "np.random.seed(64)\n",
    "\n",
    "# 随机生成数据\n",
    "a = np.random.randint(0, 11, size=(3, 4))  # 2x4 矩阵\n",
    "b = np.random.randint(0, 11, size=(3, 3))  # 2x3 矩阵\n",
    "c = np.concatenate([a,b],axis=1)  # 2x7 矩阵，水平连接\n",
    "d = np.random.randint(0, 20, size=(3, 1))  # 2x1 矩阵（右边的约束值）\n",
    "obj = np.random.randint(0, 10, size=(7, 1))  # 7x1 矩阵（目标函数的系数）\n",
    "create_dual(obj=d,c = c.T,d = obj)"
   ]
  },
  {
   "cell_type": "code",
   "execution_count": 66,
   "metadata": {},
   "outputs": [
    {
     "name": "stdout",
     "output_type": "stream",
     "text": [
      "Gurobi Optimizer version 10.0.2 build v10.0.2rc0 (win64)\n",
      "\n",
      "CPU model: 13th Gen Intel(R) Core(TM) i7-13700HX, instruction set [SSE2|AVX|AVX2]\n",
      "Thread count: 16 physical cores, 24 logical processors, using up to 24 threads\n",
      "\n",
      "Optimize a model with 3 rows, 4 columns and 11 nonzeros\n",
      "Model fingerprint: 0x8f9f392b\n",
      "Coefficient statistics:\n",
      "  Matrix range     [1e+00, 1e+01]\n",
      "  Objective range  [5e+00, 9e+00]\n",
      "  Bounds range     [0e+00, 0e+00]\n",
      "  RHS range        [1e+01, 2e+01]\n",
      "Presolve removed 0 rows and 1 columns\n",
      "Presolve time: 0.00s\n",
      "Presolved: 3 rows, 3 columns, 8 nonzeros\n",
      "\n",
      "Iteration    Objective       Primal Inf.    Dual Inf.      Time\n",
      "       0    1.9285714e+01   5.865357e-01   0.000000e+00      0s\n",
      "       3    1.8041667e+01   0.000000e+00   0.000000e+00      0s\n",
      "\n",
      "Solved in 3 iterations and 0.01 seconds (0.00 work units)\n",
      "Optimal objective  1.804166667e+01\n",
      "\n",
      "Optimal Solution:\n",
      "x[0]: 0.0\n",
      "x[1]: 0.4583333333333333\n",
      "x[2]: 1.75\n",
      "x[3]: 0.0\n"
     ]
    }
   ],
   "source": [
    "import numpy as np\n",
    "import gurobipy as gp\n",
    "from gurobipy import GRB\n",
    "\n",
    "create_max(obj=obj[:4],c=a,d=d)"
   ]
  },
  {
   "cell_type": "code",
   "execution_count": 67,
   "metadata": {},
   "outputs": [
    {
     "name": "stdout",
     "output_type": "stream",
     "text": [
      "Gurobi Optimizer version 10.0.2 build v10.0.2rc0 (win64)\n",
      "\n",
      "CPU model: 13th Gen Intel(R) Core(TM) i7-13700HX, instruction set [SSE2|AVX|AVX2]\n",
      "Thread count: 16 physical cores, 24 logical processors, using up to 24 threads\n",
      "\n",
      "Optimize a model with 3 rows, 3 columns and 8 nonzeros\n",
      "Model fingerprint: 0x4d68d777\n",
      "Coefficient statistics:\n",
      "  Matrix range     [1e+00, 8e+00]\n",
      "  Objective range  [2e+00, 6e+00]\n",
      "  Bounds range     [0e+00, 0e+00]\n",
      "  RHS range        [1e+01, 2e+01]\n",
      "Presolve time: 0.00s\n",
      "Presolved: 3 rows, 3 columns, 8 nonzeros\n",
      "\n",
      "Iteration    Objective       Primal Inf.    Dual Inf.      Time\n",
      "       0    1.0000000e+31   4.750000e+30   1.000000e+01      0s\n",
      "       3    1.1800000e+01   0.000000e+00   0.000000e+00      0s\n",
      "\n",
      "Solved in 3 iterations and 0.00 seconds (0.00 work units)\n",
      "Optimal objective  1.180000000e+01\n",
      "\n",
      "Optimal Solution:\n",
      "x[0]: 0.0\n",
      "x[1]: 1.6\n",
      "x[2]: 1.1\n"
     ]
    }
   ],
   "source": [
    "import numpy as np\n",
    "import gurobipy as gp\n",
    "from gurobipy import GRB\n",
    "\n",
    "create_max(obj=obj[4:],c=b,d=d)"
   ]
  },
  {
   "cell_type": "code",
   "execution_count": null,
   "metadata": {},
   "outputs": [],
   "source": [
    "import numpy as np\n",
    "import gurobipy as gp\n",
    "from gurobipy import GRB\n",
    "\n",
    "# 设置随机数种子\n",
    "np.random.seed(64)\n",
    "\n",
    "# 随机生成数据\n",
    "a = np.random.randint(0, 11, size=(3, 4))  # 2x4 矩阵\n",
    "b = np.random.randint(0, 11, size=(3, 3))  # 2x3 矩阵\n",
    "c = np.concatenate([a,b],axis=1)  # 2x7 矩阵，水平连接\n",
    "d = np.random.randint(0, 20, size=(3, 1))  # 2x1 矩阵（右边的约束值）\n",
    "obj = np.random.randint(0, 10, size=(7, 1))  # 7x1 矩阵（目标函数的系数）\n",
    "\n",
    "# 打印生成的随机矩阵\n",
    "print(\"Matrix A:\")\n",
    "print(a)\n",
    "print(\"Matrix B:\")\n",
    "print(b)\n",
    "print(\"Matrix C (Concatenated):\")\n",
    "print(c)\n",
    "print(\"Matrix D:\")\n",
    "print(d)\n",
    "print(\"Objective Coefficients:\")\n",
    "print(obj)\n",
    "\n",
    "# 创建优化模型\n",
    "model = gp.Model(\"linear_programming_example\")\n",
    "\n",
    "# 添加决策变量，假设每个变量是连续的\n",
    "x = model.addVars(7, lb=0, name=\"x\")  # 7 个决策变量\n",
    "\n",
    "# 设置目标函数\n",
    "model.setObjective(gp.quicksum(obj[i].item() * x[i] for i in range(7)), GRB.MAXIMIZE)\n",
    "\n",
    "# 添加约束 Ax <= b\n",
    "# 假设 c = [a, b] 被视为约束矩阵，而 d 是对应的右侧值\n",
    "for i in range(2):\n",
    "    model.addConstr(gp.quicksum(c[i, j] * x[j] for j in range(7)) <= d[i], name=f\"constraint_{i}\")\n",
    "\n",
    "# 求解模型\n",
    "model.optimize()\n",
    "\n",
    "# 输出结果\n",
    "if model.status == GRB.OPTIMAL:\n",
    "    print(\"\\nOptimal Solution:\")\n",
    "    for v in model.getVars():\n",
    "        print(f\"{v.varName}: {v.x}\")\n",
    "else:\n",
    "    print(\"No optimal solution found\")\n"
   ]
  },
  {
   "cell_type": "code",
   "execution_count": null,
   "metadata": {},
   "outputs": [],
   "source": []
  },
  {
   "cell_type": "code",
   "execution_count": null,
   "metadata": {},
   "outputs": [
    {
     "name": "stdout",
     "output_type": "stream",
     "text": [
      "Gurobi Optimizer version 10.0.2 build v10.0.2rc0 (win64)\n",
      "\n",
      "CPU model: 13th Gen Intel(R) Core(TM) i7-13700HX, instruction set [SSE2|AVX|AVX2]\n",
      "Thread count: 16 physical cores, 24 logical processors, using up to 24 threads\n",
      "\n",
      "Optimize a model with 2 rows, 2 columns and 4 nonzeros\n",
      "Model fingerprint: 0x1fb96878\n",
      "Coefficient statistics:\n",
      "  Matrix range     [1e+00, 3e+00]\n",
      "  Objective range  [1e+00, 2e+00]\n",
      "  Bounds range     [0e+00, 0e+00]\n",
      "  RHS range        [4e+00, 6e+00]\n",
      "Presolve time: 0.01s\n",
      "Presolved: 2 rows, 2 columns, 4 nonzeros\n",
      "\n",
      "Iteration    Objective       Primal Inf.    Dual Inf.      Time\n",
      "       0    0.0000000e+00   2.000000e+00   0.000000e+00      0s\n",
      "       1    4.0000000e+00   0.000000e+00   0.000000e+00      0s\n",
      "\n",
      "Solved in 1 iterations and 0.02 seconds (0.00 work units)\n",
      "Optimal objective  4.000000000e+00\n",
      "Optimal Primal Solution:\n",
      "x1 = 0.0\n",
      "x2 = 2.0\n",
      "Optimal Objective Value (z) = 4.0\n"
     ]
    }
   ],
   "source": [
    "from gurobipy import Model, GRB\n",
    "\n",
    "# Initialize model\n",
    "model = Model(\"PrimalProblem\")\n",
    "\n",
    "# Variables\n",
    "x1 = model.addVar(lb=0, name=\"x1\")\n",
    "x2 = model.addVar(lb=0, name=\"x2\")\n",
    "\n",
    "# Parameters\n",
    "c1, c2 = 1, 2\n",
    "a11, a12, b1 = 1, 2, 4\n",
    "a21, a22, b2 = 3, 1, 6\n",
    "\n",
    "# Objective: Minimize c1 * x1 + c2 * x2\n",
    "model.setObjective(c1 * x1 + c2 * x2, GRB.MINIMIZE)\n",
    "\n",
    "# Constraints\n",
    "model.addConstr(a11 * x1 + a12 * x2 >= b1, \"c1\")\n",
    "model.addConstr(a21 * x1 + a22 * x2 <= b2, \"c2\")\n",
    "\n",
    "# Solve\n",
    "model.optimize()\n",
    "\n",
    "# Display results\n",
    "if model.status == GRB.OPTIMAL:\n",
    "    print(\"Optimal Primal Solution:\")\n",
    "    for v in model.getVars():\n",
    "        print(f\"{v.varName} = {v.x}\")\n",
    "    print(f\"Optimal Objective Value (z) = {model.objVal}\")\n"
   ]
  },
  {
   "cell_type": "code",
   "execution_count": null,
   "metadata": {},
   "outputs": [
    {
     "name": "stdout",
     "output_type": "stream",
     "text": [
      "\n",
      "Dual Values (Shadow Prices):\n",
      "c1: Dual Value = 1.0\n",
      "c2: Dual Value = 0.0\n",
      "\n",
      "Reduced Costs:\n",
      "x1: Reduced Cost = 0.0\n",
      "x2: Reduced Cost = 0.0\n"
     ]
    }
   ],
   "source": [
    "# 提取对偶变量值\n",
    "if model.status == GRB.OPTIMAL:\n",
    "    print(\"\\nDual Values (Shadow Prices):\")\n",
    "    for constr in model.getConstrs():\n",
    "        print(f\"{constr.ConstrName}: Dual Value = {constr.Pi}\")\n",
    "\n",
    "    print(\"\\nReduced Costs:\")\n",
    "    for var in model.getVars():\n",
    "        print(f\"{var.varName}: Reduced Cost = {var.RC}\")\n"
   ]
  },
  {
   "cell_type": "code",
   "execution_count": null,
   "metadata": {},
   "outputs": [
    {
     "name": "stdout",
     "output_type": "stream",
     "text": [
      "Gurobi Optimizer version 10.0.2 build v10.0.2rc0 (win64)\n",
      "\n",
      "CPU model: 13th Gen Intel(R) Core(TM) i7-13700HX, instruction set [SSE2|AVX|AVX2]\n",
      "Thread count: 16 physical cores, 24 logical processors, using up to 24 threads\n",
      "\n",
      "Optimize a model with 2 rows, 2 columns and 4 nonzeros\n",
      "Model fingerprint: 0xe959ba4b\n",
      "Coefficient statistics:\n",
      "  Matrix range     [1e+00, 3e+00]\n",
      "  Objective range  [4e+00, 6e+00]\n",
      "  Bounds range     [0e+00, 0e+00]\n",
      "  RHS range        [1e+00, 2e+00]\n",
      "Presolve time: 0.00s\n",
      "Presolved: 2 rows, 2 columns, 4 nonzeros\n",
      "\n",
      "Iteration    Objective       Primal Inf.    Dual Inf.      Time\n",
      "       0    1.0000000e+31   2.500000e+30   1.000000e+01      0s\n",
      "       2    4.0000000e+00   0.000000e+00   0.000000e+00      0s\n",
      "\n",
      "Solved in 2 iterations and 0.01 seconds (0.00 work units)\n",
      "Optimal objective  4.000000000e+00\n",
      "Optimal Dual Solution:\n",
      "y1 = 1.0\n",
      "y2 = 0.0\n",
      "Optimal Objective Value (w) = 4.0\n"
     ]
    }
   ],
   "source": [
    "# Dual Model\n",
    "dual_model = Model(\"DualProblem\")\n",
    "\n",
    "# Variables (dual variables for constraints in primal)\n",
    "y1 = dual_model.addVar(lb=0, name=\"y1\")\n",
    "y2 = dual_model.addVar(lb=0, name=\"y2\")\n",
    "\n",
    "# Objective: Maximize b1 * y1 + b2 * y2\n",
    "dual_model.setObjective(b1 * y1 + b2 * y2, GRB.MAXIMIZE)\n",
    "\n",
    "# Dual constraints\n",
    "dual_model.addConstr(a11 * y1 + a21 * y2 <= c1, \"dc1\")\n",
    "dual_model.addConstr(a12 * y1 + a22 * y2 <= c2, \"dc2\")\n",
    "\n",
    "# Solve\n",
    "dual_model.optimize()\n",
    "\n",
    "# Display results\n",
    "if dual_model.status == GRB.OPTIMAL:\n",
    "    print(\"Optimal Dual Solution:\")\n",
    "    for v in dual_model.getVars():\n",
    "        print(f\"{v.varName} = {v.x}\")\n",
    "    print(f\"Optimal Objective Value (w) = {dual_model.objVal}\")\n"
   ]
  },
  {
   "cell_type": "code",
   "execution_count": null,
   "metadata": {},
   "outputs": [],
   "source": []
  }
 ],
 "metadata": {
  "language_info": {
   "name": "python"
  }
 },
 "nbformat": 4,
 "nbformat_minor": 2
}
